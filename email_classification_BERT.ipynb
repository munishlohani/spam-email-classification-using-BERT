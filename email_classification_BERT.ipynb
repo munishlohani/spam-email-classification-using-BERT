{
 "cells": [
  {
   "cell_type": "code",
   "execution_count": 1,
   "id": "6ded8f27-1789-490d-8fec-8dcfcfd533af",
   "metadata": {},
   "outputs": [],
   "source": [
    "import tensorflow as tf\n",
    "\n",
    "import tensorflow_hub as hub\n",
    "import tensorflow_text as text\n",
    "\n",
    "\n",
    "import pandas as pd"
   ]
  },
  {
   "cell_type": "code",
   "execution_count": 2,
   "id": "c8024fc6-2e9d-45a1-a54d-f004a5a0caac",
   "metadata": {},
   "outputs": [
    {
     "data": {
      "text/html": [
       "<div>\n",
       "<style scoped>\n",
       "    .dataframe tbody tr th:only-of-type {\n",
       "        vertical-align: middle;\n",
       "    }\n",
       "\n",
       "    .dataframe tbody tr th {\n",
       "        vertical-align: top;\n",
       "    }\n",
       "\n",
       "    .dataframe thead th {\n",
       "        text-align: right;\n",
       "    }\n",
       "</style>\n",
       "<table border=\"1\" class=\"dataframe\">\n",
       "  <thead>\n",
       "    <tr style=\"text-align: right;\">\n",
       "      <th></th>\n",
       "      <th>Category</th>\n",
       "      <th>Message</th>\n",
       "    </tr>\n",
       "  </thead>\n",
       "  <tbody>\n",
       "    <tr>\n",
       "      <th>0</th>\n",
       "      <td>ham</td>\n",
       "      <td>Go until jurong point, crazy.. Available only ...</td>\n",
       "    </tr>\n",
       "    <tr>\n",
       "      <th>1</th>\n",
       "      <td>ham</td>\n",
       "      <td>Ok lar... Joking wif u oni...</td>\n",
       "    </tr>\n",
       "    <tr>\n",
       "      <th>2</th>\n",
       "      <td>spam</td>\n",
       "      <td>Free entry in 2 a wkly comp to win FA Cup fina...</td>\n",
       "    </tr>\n",
       "    <tr>\n",
       "      <th>3</th>\n",
       "      <td>ham</td>\n",
       "      <td>U dun say so early hor... U c already then say...</td>\n",
       "    </tr>\n",
       "    <tr>\n",
       "      <th>4</th>\n",
       "      <td>ham</td>\n",
       "      <td>Nah I don't think he goes to usf, he lives aro...</td>\n",
       "    </tr>\n",
       "  </tbody>\n",
       "</table>\n",
       "</div>"
      ],
      "text/plain": [
       "  Category                                            Message\n",
       "0      ham  Go until jurong point, crazy.. Available only ...\n",
       "1      ham                      Ok lar... Joking wif u oni...\n",
       "2     spam  Free entry in 2 a wkly comp to win FA Cup fina...\n",
       "3      ham  U dun say so early hor... U c already then say...\n",
       "4      ham  Nah I don't think he goes to usf, he lives aro..."
      ]
     },
     "execution_count": 2,
     "metadata": {},
     "output_type": "execute_result"
    }
   ],
   "source": [
    "#reading file\n",
    "\n",
    "df=pd.read_csv('spam.csv')\n",
    "df.head()"
   ]
  },
  {
   "cell_type": "code",
   "execution_count": 3,
   "id": "2db2967c-b589-4a98-8c64-9422100c44cc",
   "metadata": {},
   "outputs": [
    {
     "data": {
      "text/html": [
       "<div>\n",
       "<style scoped>\n",
       "    .dataframe tbody tr th:only-of-type {\n",
       "        vertical-align: middle;\n",
       "    }\n",
       "\n",
       "    .dataframe tbody tr th {\n",
       "        vertical-align: top;\n",
       "    }\n",
       "\n",
       "    .dataframe thead tr th {\n",
       "        text-align: left;\n",
       "    }\n",
       "\n",
       "    .dataframe thead tr:last-of-type th {\n",
       "        text-align: right;\n",
       "    }\n",
       "</style>\n",
       "<table border=\"1\" class=\"dataframe\">\n",
       "  <thead>\n",
       "    <tr>\n",
       "      <th></th>\n",
       "      <th colspan=\"4\" halign=\"left\">Message</th>\n",
       "    </tr>\n",
       "    <tr>\n",
       "      <th></th>\n",
       "      <th>count</th>\n",
       "      <th>unique</th>\n",
       "      <th>top</th>\n",
       "      <th>freq</th>\n",
       "    </tr>\n",
       "    <tr>\n",
       "      <th>Category</th>\n",
       "      <th></th>\n",
       "      <th></th>\n",
       "      <th></th>\n",
       "      <th></th>\n",
       "    </tr>\n",
       "  </thead>\n",
       "  <tbody>\n",
       "    <tr>\n",
       "      <th>ham</th>\n",
       "      <td>4825</td>\n",
       "      <td>4516</td>\n",
       "      <td>Sorry, I'll call later</td>\n",
       "      <td>30</td>\n",
       "    </tr>\n",
       "    <tr>\n",
       "      <th>spam</th>\n",
       "      <td>747</td>\n",
       "      <td>641</td>\n",
       "      <td>Please call our customer service representativ...</td>\n",
       "      <td>4</td>\n",
       "    </tr>\n",
       "  </tbody>\n",
       "</table>\n",
       "</div>"
      ],
      "text/plain": [
       "         Message                                                            \\\n",
       "           count unique                                                top   \n",
       "Category                                                                     \n",
       "ham         4825   4516                             Sorry, I'll call later   \n",
       "spam         747    641  Please call our customer service representativ...   \n",
       "\n",
       "               \n",
       "         freq  \n",
       "Category       \n",
       "ham        30  \n",
       "spam        4  "
      ]
     },
     "execution_count": 3,
     "metadata": {},
     "output_type": "execute_result"
    }
   ],
   "source": [
    "df.groupby('Category').describe()\n"
   ]
  },
  {
   "cell_type": "code",
   "execution_count": 4,
   "id": "ccd73be3-f189-44ba-abb1-84d5115ff35f",
   "metadata": {},
   "outputs": [
    {
     "data": {
      "text/plain": [
       "Category\n",
       "ham     4825\n",
       "spam     747\n",
       "Name: count, dtype: int64"
      ]
     },
     "execution_count": 4,
     "metadata": {},
     "output_type": "execute_result"
    }
   ],
   "source": [
    "df['Category'].value_counts()"
   ]
  },
  {
   "cell_type": "code",
   "execution_count": 5,
   "id": "fafc431c-1b5d-4112-9751-659b0fadefad",
   "metadata": {},
   "outputs": [
    {
     "data": {
      "text/plain": [
       "(747, 2)"
      ]
     },
     "execution_count": 5,
     "metadata": {},
     "output_type": "execute_result"
    }
   ],
   "source": [
    "#downsampling ham category\n",
    "\n",
    "df_spam=df[df['Category']=='spam']\n",
    "df_spam.shape"
   ]
  },
  {
   "cell_type": "code",
   "execution_count": 6,
   "id": "c53902ac-6c09-4c38-a078-116ee20aa588",
   "metadata": {},
   "outputs": [
    {
     "data": {
      "text/plain": [
       "(4825, 2)"
      ]
     },
     "execution_count": 6,
     "metadata": {},
     "output_type": "execute_result"
    }
   ],
   "source": [
    "\n",
    "df_ham=df[df['Category']=='ham']\n",
    "df_ham.shape"
   ]
  },
  {
   "cell_type": "code",
   "execution_count": 7,
   "id": "368412b9-746b-42c9-8b8c-06f151f38900",
   "metadata": {},
   "outputs": [],
   "source": [
    "df_ham_dsmaple=df_ham.sample(df_spam.shape[0])"
   ]
  },
  {
   "cell_type": "code",
   "execution_count": 8,
   "id": "74962b20-62a5-4ff0-b2a9-ccbba82ec7b9",
   "metadata": {},
   "outputs": [
    {
     "data": {
      "text/plain": [
       "(747, 2)"
      ]
     },
     "execution_count": 8,
     "metadata": {},
     "output_type": "execute_result"
    }
   ],
   "source": [
    "df_ham_dsmaple.shape"
   ]
  },
  {
   "cell_type": "code",
   "execution_count": 9,
   "id": "4c2f429f-e81e-46c4-be5a-7d4f88077c2d",
   "metadata": {},
   "outputs": [
    {
     "data": {
      "text/plain": [
       "(1494, 2)"
      ]
     },
     "execution_count": 9,
     "metadata": {},
     "output_type": "execute_result"
    }
   ],
   "source": [
    "df_balanced=pd.concat([df_spam,df_ham_dsmaple])\n",
    "df_balanced.shape"
   ]
  },
  {
   "cell_type": "code",
   "execution_count": 10,
   "id": "b4d507ad-e706-434d-879c-506ad6b7166b",
   "metadata": {},
   "outputs": [
    {
     "data": {
      "text/plain": [
       "Category\n",
       "spam    747\n",
       "ham     747\n",
       "Name: count, dtype: int64"
      ]
     },
     "execution_count": 10,
     "metadata": {},
     "output_type": "execute_result"
    }
   ],
   "source": [
    "df_balanced['Category'].value_counts()"
   ]
  },
  {
   "cell_type": "code",
   "execution_count": 11,
   "id": "9d6b2fdb-e14b-41c4-9547-de196e8de8e2",
   "metadata": {},
   "outputs": [
    {
     "data": {
      "text/html": [
       "<div>\n",
       "<style scoped>\n",
       "    .dataframe tbody tr th:only-of-type {\n",
       "        vertical-align: middle;\n",
       "    }\n",
       "\n",
       "    .dataframe tbody tr th {\n",
       "        vertical-align: top;\n",
       "    }\n",
       "\n",
       "    .dataframe thead th {\n",
       "        text-align: right;\n",
       "    }\n",
       "</style>\n",
       "<table border=\"1\" class=\"dataframe\">\n",
       "  <thead>\n",
       "    <tr style=\"text-align: right;\">\n",
       "      <th></th>\n",
       "      <th>Category</th>\n",
       "      <th>Message</th>\n",
       "    </tr>\n",
       "  </thead>\n",
       "  <tbody>\n",
       "    <tr>\n",
       "      <th>660</th>\n",
       "      <td>spam</td>\n",
       "      <td>88800 and 89034 are premium phone services cal...</td>\n",
       "    </tr>\n",
       "    <tr>\n",
       "      <th>2417</th>\n",
       "      <td>ham</td>\n",
       "      <td>Could you not read me, my Love ? I answered you</td>\n",
       "    </tr>\n",
       "    <tr>\n",
       "      <th>4728</th>\n",
       "      <td>spam</td>\n",
       "      <td>Had your mobile 10 mths? Update to the latest ...</td>\n",
       "    </tr>\n",
       "    <tr>\n",
       "      <th>2808</th>\n",
       "      <td>spam</td>\n",
       "      <td>December only! Had your mobile 11mths+? You ar...</td>\n",
       "    </tr>\n",
       "    <tr>\n",
       "      <th>3930</th>\n",
       "      <td>ham</td>\n",
       "      <td>Yes. Nigh you cant aha.</td>\n",
       "    </tr>\n",
       "  </tbody>\n",
       "</table>\n",
       "</div>"
      ],
      "text/plain": [
       "     Category                                            Message\n",
       "660      spam  88800 and 89034 are premium phone services cal...\n",
       "2417      ham    Could you not read me, my Love ? I answered you\n",
       "4728     spam  Had your mobile 10 mths? Update to the latest ...\n",
       "2808     spam  December only! Had your mobile 11mths+? You ar...\n",
       "3930      ham                            Yes. Nigh you cant aha."
      ]
     },
     "execution_count": 11,
     "metadata": {},
     "output_type": "execute_result"
    }
   ],
   "source": [
    "df_balanced.sample(5)"
   ]
  },
  {
   "cell_type": "code",
   "execution_count": 12,
   "id": "488ce052-8e4a-4fea-88ca-a70e984a73cc",
   "metadata": {},
   "outputs": [
    {
     "data": {
      "text/html": [
       "<div>\n",
       "<style scoped>\n",
       "    .dataframe tbody tr th:only-of-type {\n",
       "        vertical-align: middle;\n",
       "    }\n",
       "\n",
       "    .dataframe tbody tr th {\n",
       "        vertical-align: top;\n",
       "    }\n",
       "\n",
       "    .dataframe thead th {\n",
       "        text-align: right;\n",
       "    }\n",
       "</style>\n",
       "<table border=\"1\" class=\"dataframe\">\n",
       "  <thead>\n",
       "    <tr style=\"text-align: right;\">\n",
       "      <th></th>\n",
       "      <th>spam</th>\n",
       "    </tr>\n",
       "  </thead>\n",
       "  <tbody>\n",
       "    <tr>\n",
       "      <th>2</th>\n",
       "      <td>1</td>\n",
       "    </tr>\n",
       "    <tr>\n",
       "      <th>5</th>\n",
       "      <td>1</td>\n",
       "    </tr>\n",
       "    <tr>\n",
       "      <th>8</th>\n",
       "      <td>1</td>\n",
       "    </tr>\n",
       "    <tr>\n",
       "      <th>9</th>\n",
       "      <td>1</td>\n",
       "    </tr>\n",
       "    <tr>\n",
       "      <th>11</th>\n",
       "      <td>1</td>\n",
       "    </tr>\n",
       "    <tr>\n",
       "      <th>...</th>\n",
       "      <td>...</td>\n",
       "    </tr>\n",
       "    <tr>\n",
       "      <th>4681</th>\n",
       "      <td>0</td>\n",
       "    </tr>\n",
       "    <tr>\n",
       "      <th>1671</th>\n",
       "      <td>0</td>\n",
       "    </tr>\n",
       "    <tr>\n",
       "      <th>4784</th>\n",
       "      <td>0</td>\n",
       "    </tr>\n",
       "    <tr>\n",
       "      <th>72</th>\n",
       "      <td>0</td>\n",
       "    </tr>\n",
       "    <tr>\n",
       "      <th>4649</th>\n",
       "      <td>0</td>\n",
       "    </tr>\n",
       "  </tbody>\n",
       "</table>\n",
       "<p>1494 rows × 1 columns</p>\n",
       "</div>"
      ],
      "text/plain": [
       "      spam\n",
       "2        1\n",
       "5        1\n",
       "8        1\n",
       "9        1\n",
       "11       1\n",
       "...    ...\n",
       "4681     0\n",
       "1671     0\n",
       "4784     0\n",
       "72       0\n",
       "4649     0\n",
       "\n",
       "[1494 rows x 1 columns]"
      ]
     },
     "execution_count": 12,
     "metadata": {},
     "output_type": "execute_result"
    }
   ],
   "source": [
    "#dummy variable\n",
    "\n",
    "df_dummy=pd.get_dummies(df_balanced['Category'],drop_first=True,dtype=int)\n",
    "df_dummy"
   ]
  },
  {
   "cell_type": "code",
   "execution_count": 13,
   "id": "23193e09-0521-4ac6-8b05-c9f00b2a8f59",
   "metadata": {},
   "outputs": [
    {
     "data": {
      "text/plain": [
       "(1494, 1)"
      ]
     },
     "execution_count": 13,
     "metadata": {},
     "output_type": "execute_result"
    }
   ],
   "source": [
    "df_dummy.shape"
   ]
  },
  {
   "cell_type": "code",
   "execution_count": 14,
   "id": "b6cb1e07-26d1-417c-b68d-f49b8ffcdb60",
   "metadata": {},
   "outputs": [],
   "source": [
    "df_balanced=pd.concat([df_balanced,df_dummy],axis=1)"
   ]
  },
  {
   "cell_type": "code",
   "execution_count": 15,
   "id": "313f3628-cac0-441f-86b4-67de48fe3735",
   "metadata": {},
   "outputs": [
    {
     "data": {
      "text/html": [
       "<div>\n",
       "<style scoped>\n",
       "    .dataframe tbody tr th:only-of-type {\n",
       "        vertical-align: middle;\n",
       "    }\n",
       "\n",
       "    .dataframe tbody tr th {\n",
       "        vertical-align: top;\n",
       "    }\n",
       "\n",
       "    .dataframe thead th {\n",
       "        text-align: right;\n",
       "    }\n",
       "</style>\n",
       "<table border=\"1\" class=\"dataframe\">\n",
       "  <thead>\n",
       "    <tr style=\"text-align: right;\">\n",
       "      <th></th>\n",
       "      <th>Category</th>\n",
       "      <th>Message</th>\n",
       "      <th>spam</th>\n",
       "    </tr>\n",
       "  </thead>\n",
       "  <tbody>\n",
       "    <tr>\n",
       "      <th>2</th>\n",
       "      <td>spam</td>\n",
       "      <td>Free entry in 2 a wkly comp to win FA Cup fina...</td>\n",
       "      <td>1</td>\n",
       "    </tr>\n",
       "    <tr>\n",
       "      <th>5</th>\n",
       "      <td>spam</td>\n",
       "      <td>FreeMsg Hey there darling it's been 3 week's n...</td>\n",
       "      <td>1</td>\n",
       "    </tr>\n",
       "    <tr>\n",
       "      <th>8</th>\n",
       "      <td>spam</td>\n",
       "      <td>WINNER!! As a valued network customer you have...</td>\n",
       "      <td>1</td>\n",
       "    </tr>\n",
       "    <tr>\n",
       "      <th>9</th>\n",
       "      <td>spam</td>\n",
       "      <td>Had your mobile 11 months or more? U R entitle...</td>\n",
       "      <td>1</td>\n",
       "    </tr>\n",
       "    <tr>\n",
       "      <th>11</th>\n",
       "      <td>spam</td>\n",
       "      <td>SIX chances to win CASH! From 100 to 20,000 po...</td>\n",
       "      <td>1</td>\n",
       "    </tr>\n",
       "    <tr>\n",
       "      <th>...</th>\n",
       "      <td>...</td>\n",
       "      <td>...</td>\n",
       "      <td>...</td>\n",
       "    </tr>\n",
       "    <tr>\n",
       "      <th>4681</th>\n",
       "      <td>ham</td>\n",
       "      <td>That's cool he'll be here all night, lemme kno...</td>\n",
       "      <td>0</td>\n",
       "    </tr>\n",
       "    <tr>\n",
       "      <th>1671</th>\n",
       "      <td>ham</td>\n",
       "      <td>Lmao!nice 1</td>\n",
       "      <td>0</td>\n",
       "    </tr>\n",
       "    <tr>\n",
       "      <th>4784</th>\n",
       "      <td>ham</td>\n",
       "      <td>Especially since i talk about boston all up in...</td>\n",
       "      <td>0</td>\n",
       "    </tr>\n",
       "    <tr>\n",
       "      <th>72</th>\n",
       "      <td>ham</td>\n",
       "      <td>HI BABE IM AT HOME NOW WANNA DO SOMETHING? XX</td>\n",
       "      <td>0</td>\n",
       "    </tr>\n",
       "    <tr>\n",
       "      <th>4649</th>\n",
       "      <td>ham</td>\n",
       "      <td>We are okay. Going to sleep now. Later</td>\n",
       "      <td>0</td>\n",
       "    </tr>\n",
       "  </tbody>\n",
       "</table>\n",
       "<p>1494 rows × 3 columns</p>\n",
       "</div>"
      ],
      "text/plain": [
       "     Category                                            Message  spam\n",
       "2        spam  Free entry in 2 a wkly comp to win FA Cup fina...     1\n",
       "5        spam  FreeMsg Hey there darling it's been 3 week's n...     1\n",
       "8        spam  WINNER!! As a valued network customer you have...     1\n",
       "9        spam  Had your mobile 11 months or more? U R entitle...     1\n",
       "11       spam  SIX chances to win CASH! From 100 to 20,000 po...     1\n",
       "...       ...                                                ...   ...\n",
       "4681      ham  That's cool he'll be here all night, lemme kno...     0\n",
       "1671      ham                                        Lmao!nice 1     0\n",
       "4784      ham  Especially since i talk about boston all up in...     0\n",
       "72        ham      HI BABE IM AT HOME NOW WANNA DO SOMETHING? XX     0\n",
       "4649      ham             We are okay. Going to sleep now. Later     0\n",
       "\n",
       "[1494 rows x 3 columns]"
      ]
     },
     "execution_count": 15,
     "metadata": {},
     "output_type": "execute_result"
    }
   ],
   "source": [
    "df_balanced"
   ]
  },
  {
   "cell_type": "code",
   "execution_count": 16,
   "id": "4579a6cb-d34c-48d9-82c1-9fd11bdbde7d",
   "metadata": {},
   "outputs": [],
   "source": [
    "from sklearn.model_selection import train_test_split\n",
    "\n",
    "X_train,X_test,Y_train,Y_test=train_test_split(df_balanced['Message'],df_balanced['spam'],stratify=df_balanced['spam'])"
   ]
  },
  {
   "cell_type": "code",
   "execution_count": 25,
   "id": "b1010c8e-c494-47a4-bd4b-55b96b528c0c",
   "metadata": {},
   "outputs": [],
   "source": [
    "# BERT\n",
    "bert_encoder=hub.KerasLayer('https://www.kaggle.com/models/tensorflow/bert/frameworks/TensorFlow2/variations/bert-en-uncased-l-10-h-768-a-12/versions/2')\n",
    "bert_preprocess=hub.KerasLayer('https://www.kaggle.com/models/tensorflow/bert/frameworks/TensorFlow2/variations/en-uncased-preprocess/versions/3')"
   ]
  },
  {
   "cell_type": "code",
   "execution_count": 27,
   "id": "074d9d4a-53a0-409c-9d65-e1b8d2a0c67c",
   "metadata": {},
   "outputs": [],
   "source": [
    "def get_sentence_embeddig(sentence):\n",
    "    return (bert_encoder(bert_preprocess(sentence))['pooled_output'])\n"
   ]
  },
  {
   "cell_type": "code",
   "execution_count": 29,
   "id": "83c1e1af-fe62-4a14-9d77-e1639066592f",
   "metadata": {},
   "outputs": [
    {
     "data": {
      "text/plain": [
       "<tf.Tensor: shape=(1, 768), dtype=float32, numpy=\n",
       "array([[-0.2455703 ,  0.08050564,  0.9990451 ,  0.95179427, -0.96158814,\n",
       "        -0.03655338,  0.9999762 , -0.6674263 ,  0.41902918,  0.36317277,\n",
       "         0.03381462,  0.31483537, -0.06245948, -0.02727539, -0.1804364 ,\n",
       "        -0.6140318 ,  0.96792966, -0.00184457,  0.27918756,  0.74794024,\n",
       "         0.5897801 , -0.9977413 ,  0.05776735, -0.31741673,  0.21815084,\n",
       "         0.96229446,  0.21603857, -0.15839198, -0.12252098,  0.24085304,\n",
       "        -0.20101336,  0.99477226,  0.5842218 , -0.9981197 , -0.03691851,\n",
       "         0.99115616,  0.99873954,  0.0418791 , -0.30843014, -0.25863302,\n",
       "        -0.10304545, -0.95739365, -0.34223577,  0.00372807, -0.08899519,\n",
       "         0.42819244, -0.13421519, -0.27243716,  0.508939  , -0.14041045,\n",
       "         0.9873872 ,  0.12881577,  0.07644755, -0.31699473,  0.45958588,\n",
       "        -0.9684741 , -0.69241387,  0.86008334,  0.99970084,  0.99871767,\n",
       "        -0.5481611 ,  0.18672559,  0.26622048,  0.39134642,  0.2699609 ,\n",
       "        -0.9958334 , -0.24152425,  0.04622629,  0.23311056, -0.44640267,\n",
       "         0.06159009,  0.99958193,  0.11563413, -0.17822953, -0.3426533 ,\n",
       "         0.29027003, -0.21480376, -0.3178395 ,  0.31891793,  0.17305496,\n",
       "        -0.48120075, -0.09835333,  0.9914631 ,  0.30176872, -0.5124277 ,\n",
       "         0.29386985, -0.40110862, -0.3218668 , -0.10412487, -0.9855657 ,\n",
       "         0.29948565, -0.51908016,  0.346898  ,  0.05585838,  0.87850374,\n",
       "        -0.25527588, -0.3482876 ,  0.01476483,  0.66270244, -0.47755376,\n",
       "        -0.01241818,  0.04810908, -0.13947229,  0.5031392 ,  0.33242884,\n",
       "        -0.23930798,  0.16844468, -0.31191328,  0.44340155,  0.24070366,\n",
       "         0.99954236,  0.9884187 ,  0.5572687 , -0.45747033,  0.81718004,\n",
       "         0.3132532 ,  0.9277202 ,  0.25337547,  0.27374333, -0.06621298,\n",
       "         0.31273428,  0.16612177, -0.9988945 ,  0.9648142 ,  0.99077594,\n",
       "        -0.2877757 , -0.3526278 , -0.24960135, -0.99028313, -0.41729414,\n",
       "         0.69203407, -0.01882213, -0.11740887,  0.9965017 , -0.02465234,\n",
       "        -0.93356174,  0.08297732, -0.15175638,  0.96460825, -0.09118041,\n",
       "         0.01030873,  0.00802296,  0.34347895, -0.06401791,  0.38238442,\n",
       "        -0.99907476,  0.43550742,  0.19319867, -0.39896533, -0.31387693,\n",
       "         0.99167484,  0.42313924, -0.49353898, -0.06834973, -0.11974996,\n",
       "        -0.13669552, -0.9993986 , -0.08641741, -0.11455213, -0.05843019,\n",
       "         0.17060098, -0.7973634 , -0.1640803 ,  0.2535174 , -0.9976602 ,\n",
       "         0.15959886,  0.30188945,  0.9963209 , -0.1925507 , -0.5022823 ,\n",
       "        -0.30650124, -0.96152985,  0.07723965, -0.840718  , -0.864376  ,\n",
       "        -0.05711922, -0.8600095 , -0.12377222, -0.293735  ,  0.15774718,\n",
       "        -0.36878607,  0.91436887, -0.99878937, -0.4789769 , -0.99990916,\n",
       "         0.9895083 , -0.61119735, -0.92891204, -0.32541412,  0.12092301,\n",
       "        -0.4356527 , -0.99892116,  0.9468066 , -0.86017066, -0.4395378 ,\n",
       "         0.99993485, -0.14030795,  0.13349146,  0.19138388,  0.11609476,\n",
       "        -0.8232754 ,  0.2000353 ,  0.40592992,  0.14685062,  0.19786546,\n",
       "         0.32490322, -0.46587417,  0.9993323 ,  0.99674   ,  0.36715972,\n",
       "         0.28320032,  0.01068689,  0.25626224, -0.9952791 ,  0.99757445,\n",
       "        -0.68239915,  0.34592843, -0.40197158,  0.54126674,  0.9863809 ,\n",
       "        -0.6874963 , -0.4686595 , -0.41830122, -0.00433692,  0.03557745,\n",
       "         0.30888796, -0.94828826, -0.55942905,  0.9909573 , -0.99874306,\n",
       "         0.13746849, -0.02924385, -0.1030836 ,  0.15639193,  0.15016784,\n",
       "         0.42165947,  0.3684858 , -0.08387029,  0.6899188 , -0.0028664 ,\n",
       "         0.6320089 ,  0.9998628 ,  0.3546102 , -0.17575958,  0.38816285,\n",
       "        -0.26039073,  0.11999326, -0.06696974,  0.948504  , -0.7478152 ,\n",
       "        -0.08346483, -0.07940198, -0.4339076 , -0.9953054 , -0.91886544,\n",
       "        -0.07294481, -0.18239535,  0.23221701,  0.1898026 , -0.48091295,\n",
       "        -0.9604208 ,  0.6372785 , -0.17831667,  0.4206979 , -0.8806794 ,\n",
       "        -0.83520454,  0.24577524,  0.99998957,  0.17968681, -0.99937433,\n",
       "        -0.9992352 , -0.05163019,  0.28356245,  0.9904666 ,  0.47848162,\n",
       "        -0.6227694 ,  0.27215725, -0.17140387,  0.9991633 , -0.31410974,\n",
       "        -0.44296804,  0.18682155,  0.30263573, -0.05489866,  0.30815622,\n",
       "         0.21015702, -0.27460158, -0.2972392 ,  0.10045654, -0.05159147,\n",
       "        -0.5377762 , -0.27915022,  0.49827537,  0.5910226 , -0.33093205,\n",
       "         0.00221413, -0.06898465, -0.1682115 , -0.18662229, -0.9485665 ,\n",
       "        -0.90304255,  0.09696551, -0.2194514 , -0.9988816 ,  0.26641867,\n",
       "         0.05582175, -0.16770017, -0.07892422, -0.560875  , -0.19134612,\n",
       "        -0.25784966, -0.5564875 ,  0.3435721 , -0.18239613,  0.92643654,\n",
       "        -0.44567072,  0.24550496,  0.2759953 ,  0.03974285,  0.14328729,\n",
       "         0.14117076,  0.95100045,  0.7789578 ,  0.19633895, -0.43155503,\n",
       "         0.38178018,  0.6458858 , -0.38704237,  0.997986  ,  0.23002744,\n",
       "        -0.20170969,  0.30778363, -0.10021385, -0.32937005,  0.58621573,\n",
       "        -0.38025844,  0.88011897,  0.5885398 ,  0.21648632,  0.9625508 ,\n",
       "         0.3697096 , -0.26231417, -0.94310457, -0.25155818,  0.3255421 ,\n",
       "        -0.27235183, -0.9990455 ,  0.69306874, -0.98210204,  0.066819  ,\n",
       "         0.25954178, -0.43303335, -0.8705638 ,  0.19023195,  0.5170064 ,\n",
       "        -0.30643174,  0.23050323,  0.16248137,  0.41681537, -0.96831477,\n",
       "         0.28373775,  0.99714315, -0.21021499,  0.2504796 , -0.5819266 ,\n",
       "         0.00286331, -0.9402208 ,  0.28919286, -0.21437787,  0.13143425,\n",
       "        -0.05647397,  0.24057019,  0.02469707,  0.7006898 , -0.67908263,\n",
       "        -0.02945127,  0.9935587 ,  0.16209376, -0.10210899,  0.19556364,\n",
       "         0.09125799, -0.1470374 ,  0.9999524 , -0.2503733 ,  0.09210448,\n",
       "        -0.01921659,  0.00870869,  0.35321623, -0.06102051,  0.9896317 ,\n",
       "        -0.41289097,  0.33529976, -0.26611653,  0.00712092,  0.3048972 ,\n",
       "        -0.4577557 ,  0.24629836, -0.038712  ,  0.09838165,  0.9888897 ,\n",
       "        -0.07518044,  0.8753575 ,  0.24734116, -0.266169  ,  0.9983547 ,\n",
       "         0.194825  ,  0.9073308 ,  0.4462198 , -0.21946606,  0.67443943,\n",
       "        -0.35164312,  0.891226  , -0.32013032, -0.2736317 , -0.5001485 ,\n",
       "        -0.8305552 ,  0.9990447 ,  0.7153708 ,  0.87936807, -0.98838365,\n",
       "         0.9975282 ,  0.62153447,  0.63629705, -0.33175352,  0.06473944,\n",
       "        -0.8493269 , -0.98913664,  0.766647  , -0.24017589, -0.5149292 ,\n",
       "         0.9886774 , -0.8321567 ,  0.49719727, -0.5184368 , -0.02681967,\n",
       "        -0.06505728, -0.03433267,  0.36987028, -0.93937075, -0.38973925,\n",
       "        -0.10045784, -0.15255186,  0.06928722, -0.95290256, -0.16932018,\n",
       "         0.37728104, -0.30658343, -0.21388507,  0.9990985 , -0.03049024,\n",
       "        -0.9965646 ,  0.9662746 , -0.9919693 , -0.11550798, -0.28253192,\n",
       "         0.01631939, -0.30953133, -0.22804819,  0.24239291,  0.0549942 ,\n",
       "        -0.41832215,  0.26197782,  0.96106446, -0.24035949, -0.89575684,\n",
       "        -0.20884848,  0.12591101,  0.17182426, -0.40993637,  0.07152558,\n",
       "         0.6036243 ,  0.08538489,  0.08491285, -0.18435754, -0.34116027,\n",
       "         0.1600697 , -0.0511608 ,  0.982081  ,  0.37544477, -0.53673154,\n",
       "        -0.43168575,  0.9266735 ,  0.03162771,  0.29821736,  0.9657477 ,\n",
       "         0.50707054, -0.05277096,  0.22092502, -0.29411492, -0.10511731,\n",
       "        -0.19360673,  0.00334918, -0.752798  , -0.3062087 ,  0.2723068 ,\n",
       "        -0.01799366, -0.22940251,  0.44709644,  0.36576918,  0.2205468 ,\n",
       "        -0.01288656,  0.92378074,  0.2699427 , -0.20909294,  0.99141383,\n",
       "         0.3622268 , -0.9999466 , -0.3790792 , -0.6170202 , -0.16590153,\n",
       "         0.27787814, -0.48448583, -0.35261154, -0.32606968, -0.9833887 ,\n",
       "        -0.05466768,  0.3552419 ,  0.20182385,  0.0538748 ,  0.42137894,\n",
       "         0.65112156, -0.99861544, -0.16984098,  0.9989546 ,  0.37830257,\n",
       "        -0.06423834,  0.19456713, -0.13835913, -0.27856967,  0.41976655,\n",
       "        -0.32706282, -0.6471615 ,  0.15540202, -0.934026  , -0.9932403 ,\n",
       "         0.48067558, -0.03324587,  0.8406968 ,  0.38613656, -0.04332134,\n",
       "         0.03933983, -0.3405649 , -0.99796516,  0.3282502 ,  0.18277209,\n",
       "         0.9149239 , -0.96619254,  0.1524133 , -0.9965221 , -0.58636785,\n",
       "         0.1210977 ,  0.3160828 ,  0.1871232 ,  0.3999076 , -0.9984066 ,\n",
       "         0.29631838,  0.46557313, -0.07912738,  0.5692675 , -0.56567186,\n",
       "         0.02253178, -0.11809152, -0.09246168,  0.9998513 , -0.2801694 ,\n",
       "        -0.12072051, -0.5168483 ,  0.9692854 , -0.09838577,  0.30475405,\n",
       "         0.5185774 , -0.45179105,  0.45343393, -0.27103707,  0.0367563 ,\n",
       "        -0.6493995 ,  0.22756459,  0.3845533 ,  0.02551626,  0.06048837,\n",
       "         0.09536618,  0.32637388, -0.99913263, -0.06385604, -0.5166479 ,\n",
       "        -0.0830542 ,  0.13153924,  0.9861423 ,  0.3009279 ,  0.24415451,\n",
       "        -0.5595917 ,  0.18943353, -0.01294013,  0.13492514, -0.29706964,\n",
       "         0.15358326, -0.10814023, -0.1713939 , -0.1721333 ,  0.04342077,\n",
       "         0.0311987 ,  0.1773839 ,  0.09546324, -0.28087974,  0.48303428,\n",
       "         0.31502697,  0.10537823, -0.9488472 ,  0.16696966,  0.09035418,\n",
       "         0.16647953, -0.29884437, -0.23293099,  0.22092491, -0.9240249 ,\n",
       "         0.14706963, -0.27093968,  0.3350762 , -0.20946279,  0.85904336,\n",
       "         0.99794835,  0.24094017,  0.2588133 ,  0.9810218 ,  0.14799464,\n",
       "         0.2340583 ,  0.6191144 , -0.2594536 , -0.08143522, -0.3678329 ,\n",
       "        -0.42000183, -0.6829236 , -0.23255025,  0.01443652,  0.9871452 ,\n",
       "        -0.879189  , -0.05529924, -0.99923974,  0.87496936,  0.54557884,\n",
       "         0.32493368,  0.764278  , -0.42679206,  0.10907036,  0.1733829 ,\n",
       "        -0.9817132 ,  0.32610914, -0.32465488,  0.3912863 , -0.48102257,\n",
       "         0.2538604 ,  0.28962412,  0.954602  , -0.3265781 , -0.11114813,\n",
       "         0.28999996,  0.25452232, -0.10207152, -0.06102155,  0.21381538,\n",
       "         0.19700676,  0.01724863, -0.19896466, -0.99833846, -0.9931554 ,\n",
       "        -0.99883115,  0.67428374,  0.1892658 ,  0.01301108,  0.00467484,\n",
       "         0.17875507,  0.08347657, -0.12840143, -0.2891119 , -0.01362168,\n",
       "         0.08392487, -0.13279548, -0.5869932 , -0.36241838,  0.3206651 ,\n",
       "        -0.12782526, -0.9858692 ,  0.5160575 ,  0.44100782,  0.45174143,\n",
       "         0.26138118, -0.07028619,  0.01628638, -0.9990574 , -0.9920635 ,\n",
       "         0.3678187 , -0.99589634, -0.1754415 ,  0.54558396, -0.27762818,\n",
       "         0.7183442 , -0.40998092,  0.44039437,  0.21414255,  0.713388  ,\n",
       "         0.9811211 ,  0.03380026,  0.14650807,  0.34057546,  0.21089162,\n",
       "         0.05166085, -0.76088625, -0.99858516,  0.46724057, -0.18947051,\n",
       "         0.51470494,  0.50993335, -0.11224817, -0.22946742,  0.18466055,\n",
       "        -0.5346798 , -0.03826435, -0.43600926, -0.13581862,  0.9662131 ,\n",
       "        -0.24694446,  0.06778803, -0.45228314, -0.99770564,  0.3731825 ,\n",
       "        -0.3064259 , -0.96826077, -0.99651027,  0.5413267 , -0.3170599 ,\n",
       "        -0.6941222 , -0.08796281,  0.24768059, -0.9985669 , -0.09747799,\n",
       "        -0.13996218, -0.9831109 ,  0.19119987, -0.4375479 , -0.34777814,\n",
       "        -0.4109431 , -0.00351364,  0.3028088 ,  0.4074619 , -0.99826396,\n",
       "         0.18628381, -0.55290407, -0.66524595,  0.29251572,  0.24022527,\n",
       "         0.18852365,  0.39073727,  0.5037392 , -0.4176986 ,  0.04020846,\n",
       "        -0.12010834, -0.26885054, -0.06290294, -0.43585196,  0.36963603,\n",
       "         0.0156718 , -0.2526141 , -0.4657693 ,  0.73958516,  0.06064129,\n",
       "         0.29521215, -0.16016877, -0.22962543]], dtype=float32)>"
      ]
     },
     "execution_count": 29,
     "metadata": {},
     "output_type": "execute_result"
    }
   ],
   "source": [
    "get_sentence_embeddig(['hello whats up'])"
   ]
  },
  {
   "cell_type": "code",
   "execution_count": 42,
   "id": "407036c8-7f5f-46fb-84c7-7d0b96845c8a",
   "metadata": {},
   "outputs": [],
   "source": [
    "e=get_sentence_embeddig([\n",
    "    'banana',\n",
    "    'apple',\n",
    "    'mango',\n",
    "    'jeff bezoz',\n",
    "    'elon musk',\n",
    "    'bill gates'\n",
    "    \n",
    "])"
   ]
  },
  {
   "cell_type": "code",
   "execution_count": 43,
   "id": "68480e0e-bbe4-4e99-a1af-32c30515edfc",
   "metadata": {},
   "outputs": [
    {
     "data": {
      "text/plain": [
       "<tf.Tensor: shape=(6, 768), dtype=float32, numpy=\n",
       "array([[-0.25603375,  0.33182472,  0.8329441 , ...,  0.66625994,\n",
       "        -0.6272068 , -0.01630283],\n",
       "       [ 0.3497061 , -0.14382474,  0.22438778, ...,  0.01161897,\n",
       "        -0.26782903, -0.31236592],\n",
       "       [-0.02383204,  0.5706705 , -0.6053118 , ...,  0.66652757,\n",
       "        -0.47224352,  0.01885891],\n",
       "       [ 0.42072842,  0.3008048 , -0.00977876, ...,  0.3450734 ,\n",
       "        -0.08169457,  0.07818229],\n",
       "       [ 0.61939794,  0.33138868,  0.09326481, ...,  0.18473193,\n",
       "         0.03017475, -0.02672951],\n",
       "       [ 0.37309808,  0.51502466,  0.66797006, ...,  0.2142041 ,\n",
       "        -0.24310598,  0.28810945]], dtype=float32)>"
      ]
     },
     "execution_count": 43,
     "metadata": {},
     "output_type": "execute_result"
    }
   ],
   "source": [
    "e"
   ]
  },
  {
   "cell_type": "code",
   "execution_count": 49,
   "id": "d706d33f-7316-4882-b3a9-d4e287d28bec",
   "metadata": {},
   "outputs": [
    {
     "data": {
      "text/plain": [
       "0.8444116"
      ]
     },
     "execution_count": 49,
     "metadata": {},
     "output_type": "execute_result"
    }
   ],
   "source": [
    "from sklearn.metrics.pairwise import cosine_similarity\n",
    "cosine_similarity([e[3],e[4]])[1][0]"
   ]
  },
  {
   "cell_type": "code",
   "execution_count": 52,
   "id": "2f61d7f7-1086-4a3f-9a12-5e805db9db6c",
   "metadata": {},
   "outputs": [],
   "source": [
    "#Bert Layers\n",
    "text_input=tf.keras.layers.Input(shape=(),dtype=tf.string,name=\"text\")\n",
    "preprocessed=bert_preprocess(text_input)\n",
    "outputs=bert_encoder(preprocessed)\n",
    "\n",
    "#Neural Network Layers\n",
    "first=tf.keras.layers.Dropout(0.1,name='dropout')(outputs['pooled_output'])\n",
    "second=tf.keras.layers.Dense(1,activation='sigmoid',name='output')(first)\n",
    "\n",
    "#final model\n",
    "model=tf.keras.Model(inputs=[text_input],outputs=[second])\n"
   ]
  },
  {
   "cell_type": "code",
   "execution_count": 57,
   "id": "b39f1bae-f618-457e-aa39-c96d93ad4117",
   "metadata": {},
   "outputs": [
    {
     "name": "stdout",
     "output_type": "stream",
     "text": [
      "Model: \"model\"\n",
      "__________________________________________________________________________________________________\n",
      " Layer (type)                   Output Shape         Param #     Connected to                     \n",
      "==================================================================================================\n",
      " text (InputLayer)              [(None,)]            0           []                               \n",
      "                                                                                                  \n",
      " keras_layer_1 (KerasLayer)     {'input_word_ids':   0           ['text[0][0]']                   \n",
      "                                (None, 128),                                                      \n",
      "                                 'input_mask': (Non                                               \n",
      "                                e, 128),                                                          \n",
      "                                 'input_type_ids':                                                \n",
      "                                (None, 128)}                                                      \n",
      "                                                                                                  \n",
      " keras_layer (KerasLayer)       {'sequence_output':  95306497    ['keras_layer_1[1][0]',          \n",
      "                                 (None, 128, 768),                'keras_layer_1[1][1]',          \n",
      "                                 'pooled_output': (               'keras_layer_1[1][2]']          \n",
      "                                None, 768),                                                       \n",
      "                                 'default': (None,                                                \n",
      "                                768),                                                             \n",
      "                                 'encoder_outputs':                                               \n",
      "                                 [(None, 128, 768),                                               \n",
      "                                 (None, 128, 768),                                                \n",
      "                                 (None, 128, 768),                                                \n",
      "                                 (None, 128, 768),                                                \n",
      "                                 (None, 128, 768),                                                \n",
      "                                 (None, 128, 768),                                                \n",
      "                                 (None, 128, 768),                                                \n",
      "                                 (None, 128, 768),                                                \n",
      "                                 (None, 128, 768),                                                \n",
      "                                 (None, 128, 768)]}                                               \n",
      "                                                                                                  \n",
      " dropout (Dropout)              (None, 768)          0           ['keras_layer[1][11]']           \n",
      "                                                                                                  \n",
      " output (Dense)                 (None, 1)            769         ['dropout[0][0]']                \n",
      "                                                                                                  \n",
      "==================================================================================================\n",
      "Total params: 95,307,266\n",
      "Trainable params: 769\n",
      "Non-trainable params: 95,306,497\n",
      "__________________________________________________________________________________________________\n"
     ]
    }
   ],
   "source": [
    "model.summary()"
   ]
  },
  {
   "cell_type": "code",
   "execution_count": 60,
   "id": "b6ee986b-caf8-4a92-8344-61b9f4c655e1",
   "metadata": {},
   "outputs": [],
   "source": [
    "Metrices=[\n",
    "    tf.keras.metrics.BinaryAccuracy(name='accuracy'),\n",
    "    tf.keras.metrics.Precision(name='precision'),\n",
    "    tf.keras.metrics.Recall(name='recall')\n",
    "    \n",
    "]\n",
    "\n",
    "model.compile(\n",
    "    optimizer='adam',\n",
    "    loss='binary_crossentropy',\n",
    "    metrics=Metrices\n",
    "    \n",
    ")"
   ]
  },
  {
   "cell_type": "code",
   "execution_count": 61,
   "id": "4c3b9577-ce71-4ec8-a060-73250dc607d3",
   "metadata": {},
   "outputs": [
    {
     "name": "stdout",
     "output_type": "stream",
     "text": [
      "Epoch 1/10\n",
      "35/35 [==============================] - 26s 507ms/step - loss: 0.4922 - accuracy: 0.7955 - precision: 0.7674 - recall: 0.8482\n",
      "Epoch 2/10\n",
      "35/35 [==============================] - 18s 504ms/step - loss: 0.3193 - accuracy: 0.9018 - precision: 0.8801 - recall: 0.9304\n",
      "Epoch 3/10\n",
      "35/35 [==============================] - 18s 512ms/step - loss: 0.2377 - accuracy: 0.9464 - precision: 0.9296 - recall: 0.9661\n",
      "Epoch 4/10\n",
      "35/35 [==============================] - 18s 513ms/step - loss: 0.1996 - accuracy: 0.9509 - precision: 0.9422 - recall: 0.9607\n",
      "Epoch 5/10\n",
      "35/35 [==============================] - 18s 514ms/step - loss: 0.1723 - accuracy: 0.9580 - precision: 0.9492 - recall: 0.9679\n",
      "Epoch 6/10\n",
      "35/35 [==============================] - 18s 515ms/step - loss: 0.1590 - accuracy: 0.9571 - precision: 0.9444 - recall: 0.9714\n",
      "Epoch 7/10\n",
      "35/35 [==============================] - 18s 515ms/step - loss: 0.1450 - accuracy: 0.9607 - precision: 0.9558 - recall: 0.9661\n",
      "Epoch 8/10\n",
      "35/35 [==============================] - 18s 516ms/step - loss: 0.1300 - accuracy: 0.9688 - precision: 0.9663 - recall: 0.9714\n",
      "Epoch 9/10\n",
      "35/35 [==============================] - 18s 516ms/step - loss: 0.1215 - accuracy: 0.9705 - precision: 0.9631 - recall: 0.9786\n",
      "Epoch 10/10\n",
      "35/35 [==============================] - 18s 518ms/step - loss: 0.1160 - accuracy: 0.9723 - precision: 0.9665 - recall: 0.9786\n"
     ]
    },
    {
     "data": {
      "text/plain": [
       "<keras.callbacks.History at 0x2e157149fa0>"
      ]
     },
     "execution_count": 61,
     "metadata": {},
     "output_type": "execute_result"
    }
   ],
   "source": [
    "model.fit(X_train,Y_train,epochs=10)"
   ]
  },
  {
   "cell_type": "code",
   "execution_count": 62,
   "id": "ad3a97b7-b747-47d1-85b2-3ee29ff15ad9",
   "metadata": {},
   "outputs": [
    {
     "name": "stdout",
     "output_type": "stream",
     "text": [
      "12/12 [==============================] - 7s 501ms/step - loss: 0.1397 - accuracy: 0.9519 - precision: 0.9617 - recall: 0.9412\n"
     ]
    },
    {
     "data": {
      "text/plain": [
       "[0.13970351219177246,\n",
       " 0.9518716335296631,\n",
       " 0.9617486596107483,\n",
       " 0.9411764740943909]"
      ]
     },
     "execution_count": 62,
     "metadata": {},
     "output_type": "execute_result"
    }
   ],
   "source": [
    "model.evaluate(X_test,Y_test)"
   ]
  },
  {
   "cell_type": "code",
   "execution_count": 64,
   "id": "831de1ae-9f87-45a0-a45b-6c2edd699200",
   "metadata": {},
   "outputs": [
    {
     "name": "stdout",
     "output_type": "stream",
     "text": [
      "12/12 [==============================] - 6s 502ms/step\n"
     ]
    }
   ],
   "source": [
    "y_predicted=model.predict(X_test)\n",
    "y_predicted=y_predicted.flatten()"
   ]
  },
  {
   "cell_type": "code",
   "execution_count": 65,
   "id": "d27a40e9-f47b-43b8-b79e-75d6ceb87ac7",
   "metadata": {},
   "outputs": [
    {
     "data": {
      "text/plain": [
       "array([0, 1, 1, 1, 0, 0, 1, 0, 0, 0, 1, 0, 1, 1, 0, 0, 0, 1, 1, 0, 0, 1,\n",
       "       1, 0, 1, 0, 1, 1, 0, 1, 0, 1, 0, 0, 0, 1, 0, 0, 0, 0, 0, 0, 1, 1,\n",
       "       1, 0, 1, 0, 1, 0, 1, 0, 1, 1, 0, 1, 0, 1, 0, 1, 0, 1, 1, 1, 1, 0,\n",
       "       0, 0, 0, 0, 0, 1, 0, 0, 0, 1, 1, 1, 0, 1, 0, 0, 1, 0, 0, 1, 0, 0,\n",
       "       0, 0, 1, 1, 0, 1, 1, 1, 1, 0, 1, 1, 1, 1, 0, 0, 0, 0, 1, 1, 1, 1,\n",
       "       0, 0, 1, 1, 1, 1, 0, 1, 0, 1, 1, 1, 1, 0, 1, 1, 0, 1, 0, 0, 1, 1,\n",
       "       1, 1, 1, 1, 0, 0, 0, 1, 1, 0, 0, 0, 0, 0, 0, 0, 1, 0, 1, 1, 1, 0,\n",
       "       0, 0, 0, 0, 1, 1, 0, 1, 1, 1, 1, 1, 1, 0, 0, 0, 1, 0, 0, 0, 0, 0,\n",
       "       1, 1, 1, 0, 0, 0, 0, 1, 0, 1, 1, 1, 1, 0, 0, 1, 1, 0, 1, 1, 0, 0,\n",
       "       1, 0, 0, 0, 1, 0, 1, 0, 1, 1, 0, 0, 1, 0, 1, 0, 1, 1, 0, 0, 0, 1,\n",
       "       0, 0, 0, 0, 1, 0, 1, 1, 0, 1, 1, 1, 0, 1, 0, 1, 1, 1, 1, 0, 0, 0,\n",
       "       1, 1, 0, 0, 1, 1, 1, 0, 1, 0, 1, 1, 0, 0, 1, 0, 0, 0, 1, 0, 1, 0,\n",
       "       0, 1, 1, 1, 0, 0, 0, 0, 0, 0, 0, 1, 0, 1, 1, 1, 1, 1, 0, 0, 0, 0,\n",
       "       1, 0, 0, 1, 0, 0, 1, 1, 0, 0, 1, 1, 0, 0, 1, 0, 1, 1, 1, 1, 1, 0,\n",
       "       0, 0, 0, 1, 1, 0, 1, 1, 1, 0, 1, 0, 1, 1, 0, 1, 0, 0, 0, 0, 0, 0,\n",
       "       1, 1, 0, 0, 0, 0, 0, 0, 0, 1, 1, 1, 0, 0, 0, 0, 0, 1, 0, 1, 0, 1,\n",
       "       1, 1, 1, 0, 0, 1, 1, 0, 1, 1, 1, 1, 0, 1, 1, 1, 0, 0, 1, 1, 0, 1])"
      ]
     },
     "execution_count": 65,
     "metadata": {},
     "output_type": "execute_result"
    }
   ],
   "source": [
    "import numpy as np\n",
    "y_predicted=np.where(y_predicted>0.5,1,0)\n",
    "y_predicted"
   ]
  },
  {
   "cell_type": "code",
   "execution_count": 67,
   "id": "61552e60-9c50-47b1-a916-fac43af77724",
   "metadata": {},
   "outputs": [
    {
     "data": {
      "text/plain": [
       "array([[180,   7],\n",
       "       [ 11, 176]], dtype=int64)"
      ]
     },
     "execution_count": 67,
     "metadata": {},
     "output_type": "execute_result"
    }
   ],
   "source": [
    "from sklearn.metrics import confusion_matrix,classification_report\n",
    "\n",
    "cm=(confusion_matrix(Y_test,y_predicted))\n",
    "cm"
   ]
  },
  {
   "cell_type": "code",
   "execution_count": 70,
   "id": "2dde7433-44bb-496c-8fac-a0c1a9283fae",
   "metadata": {},
   "outputs": [
    {
     "data": {
      "text/plain": [
       "Text(50.722222222222214, 0.5, 'True')"
      ]
     },
     "execution_count": 70,
     "metadata": {},
     "output_type": "execute_result"
    },
    {
     "data": {
      "image/png": "[encoded data removed]",
      "text/plain": [
       "<Figure size 640x480 with 2 Axes>"
      ]
     },
     "metadata": {},
     "output_type": "display_data"
    }
   ],
   "source": [
    "import matplotlib.pyplot as plt\n",
    "import seaborn as sns\n",
    "sns.heatmap(cm,annot=True,fmt='d')\n",
    "plt.xlabel('Predicted')\n",
    "plt.ylabel('True')\n"
   ]
  },
  {
   "cell_type": "code",
   "execution_count": 73,
   "id": "8de17801-92a7-4d15-99d7-1d234259736d",
   "metadata": {},
   "outputs": [
    {
     "name": "stdout",
     "output_type": "stream",
     "text": [
      "              precision    recall  f1-score   support\n",
      "\n",
      "           0       0.94      0.96      0.95       187\n",
      "           1       0.96      0.94      0.95       187\n",
      "\n",
      "    accuracy                           0.95       374\n",
      "   macro avg       0.95      0.95      0.95       374\n",
      "weighted avg       0.95      0.95      0.95       374\n",
      "\n"
     ]
    }
   ],
   "source": [
    "print(classification_report(Y_test,y_predicted))"
   ]
  },
  {
   "cell_type": "code",
   "execution_count": 83,
   "id": "98063004-6ca7-4f25-96ad-27da1d753108",
   "metadata": {},
   "outputs": [
    {
     "name": "stdout",
     "output_type": "stream",
     "text": [
      "12/12 [==============================] - 6s 498ms/step\n"
     ]
    },
    {
     "data": {
      "text/plain": [
       "array([[1.50649631e-02],\n",
       "       [9.84643221e-01],\n",
       "       [9.27526474e-01],\n",
       "       [9.67571199e-01],\n",
       "       [2.19163368e-03],\n",
       "       [3.97533506e-01],\n",
       "       [9.79788840e-01],\n",
       "       [2.89975628e-02],\n",
       "       [6.52066544e-02],\n",
       "       [1.10684650e-03],\n",
       "       [9.61356878e-01],\n",
       "       [3.13535869e-01],\n",
       "       [9.84643221e-01],\n",
       "       [9.85107720e-01],\n",
       "       [4.80674803e-02],\n",
       "       [2.65536815e-01],\n",
       "       [2.68279165e-02],\n",
       "       [9.35377002e-01],\n",
       "       [9.93945777e-01],\n",
       "       [4.19694930e-02],\n",
       "       [3.17771025e-02],\n",
       "       [9.46949720e-01],\n",
       "       [9.90807116e-01],\n",
       "       [1.21833146e-01],\n",
       "       [9.79565918e-01],\n",
       "       [1.64264988e-03],\n",
       "       [9.92544413e-01],\n",
       "       [9.90167379e-01],\n",
       "       [5.02581596e-02],\n",
       "       [5.70417106e-01],\n",
       "       [1.42428568e-02],\n",
       "       [9.94282961e-01],\n",
       "       [3.76849234e-01],\n",
       "       [6.16219789e-02],\n",
       "       [3.55492562e-01],\n",
       "       [9.95219290e-01],\n",
       "       [2.14562248e-02],\n",
       "       [1.56238884e-01],\n",
       "       [1.99853048e-01],\n",
       "       [2.73800138e-02],\n",
       "       [4.01380770e-02],\n",
       "       [8.62945896e-03],\n",
       "       [9.45769250e-01],\n",
       "       [9.26117539e-01],\n",
       "       [9.07963455e-01],\n",
       "       [1.63977861e-01],\n",
       "       [9.88690972e-01],\n",
       "       [2.31134370e-02],\n",
       "       [9.75750744e-01],\n",
       "       [2.30895709e-02],\n",
       "       [9.98301744e-01],\n",
       "       [7.85824060e-02],\n",
       "       [9.90167141e-01],\n",
       "       [9.45101678e-01],\n",
       "       [1.30222542e-02],\n",
       "       [9.74131167e-01],\n",
       "       [6.76426059e-03],\n",
       "       [7.11468160e-01],\n",
       "       [3.62834871e-01],\n",
       "       [9.70695615e-01],\n",
       "       [1.18458524e-01],\n",
       "       [8.78626585e-01],\n",
       "       [9.65481699e-01],\n",
       "       [5.92079163e-01],\n",
       "       [6.63941562e-01],\n",
       "       [3.41554284e-02],\n",
       "       [1.31811267e-02],\n",
       "       [2.74394631e-01],\n",
       "       [7.45200515e-02],\n",
       "       [4.63397019e-02],\n",
       "       [1.89993188e-01],\n",
       "       [9.60328400e-01],\n",
       "       [2.21063942e-03],\n",
       "       [1.11113619e-02],\n",
       "       [1.00906724e-02],\n",
       "       [9.16571379e-01],\n",
       "       [9.00206745e-01],\n",
       "       [9.61144626e-01],\n",
       "       [7.75958924e-03],\n",
       "       [9.94568944e-01],\n",
       "       [7.76892528e-02],\n",
       "       [6.00861274e-02],\n",
       "       [9.38559890e-01],\n",
       "       [2.10056757e-03],\n",
       "       [3.96606565e-01],\n",
       "       [9.80415106e-01],\n",
       "       [6.04223087e-02],\n",
       "       [2.31221076e-02],\n",
       "       [2.60389992e-03],\n",
       "       [5.50059080e-02],\n",
       "       [7.49690890e-01],\n",
       "       [9.88220096e-01],\n",
       "       [1.84558854e-02],\n",
       "       [9.94810224e-01],\n",
       "       [9.48759913e-01],\n",
       "       [9.84252036e-01],\n",
       "       [9.65768158e-01],\n",
       "       [1.83188066e-01],\n",
       "       [9.92979228e-01],\n",
       "       [9.96509850e-01],\n",
       "       [5.14235675e-01],\n",
       "       [6.04215980e-01],\n",
       "       [1.16209546e-02],\n",
       "       [8.01978931e-02],\n",
       "       [1.98075804e-03],\n",
       "       [9.41933226e-03],\n",
       "       [9.81811941e-01],\n",
       "       [7.51024723e-01],\n",
       "       [5.93278825e-01],\n",
       "       [9.94885623e-01],\n",
       "       [7.84287900e-02],\n",
       "       [5.37553765e-02],\n",
       "       [9.91634846e-01],\n",
       "       [8.04251850e-01],\n",
       "       [8.39925230e-01],\n",
       "       [9.37935472e-01],\n",
       "       [1.50200725e-03],\n",
       "       [9.84673977e-01],\n",
       "       [2.27834433e-02],\n",
       "       [9.47165132e-01],\n",
       "       [6.05737448e-01],\n",
       "       [9.95943010e-01],\n",
       "       [9.70141292e-01],\n",
       "       [1.46990400e-02],\n",
       "       [9.24054563e-01],\n",
       "       [9.44571555e-01],\n",
       "       [2.39709695e-03],\n",
       "       [9.90233421e-01],\n",
       "       [1.73910141e-01],\n",
       "       [6.35873666e-03],\n",
       "       [9.64660406e-01],\n",
       "       [9.41008389e-01],\n",
       "       [9.32213008e-01],\n",
       "       [9.60088074e-01],\n",
       "       [5.31243622e-01],\n",
       "       [9.38682854e-01],\n",
       "       [6.17269091e-02],\n",
       "       [2.99175195e-02],\n",
       "       [1.73605934e-01],\n",
       "       [9.37207401e-01],\n",
       "       [9.55800533e-01],\n",
       "       [3.89272310e-02],\n",
       "       [1.94118414e-02],\n",
       "       [7.91893713e-03],\n",
       "       [1.54393185e-02],\n",
       "       [4.60178964e-02],\n",
       "       [4.43357555e-03],\n",
       "       [2.91013747e-01],\n",
       "       [9.90086138e-01],\n",
       "       [1.89985596e-02],\n",
       "       [9.98058736e-01],\n",
       "       [9.67583597e-01],\n",
       "       [9.34127092e-01],\n",
       "       [2.93168854e-02],\n",
       "       [8.65598768e-02],\n",
       "       [3.57454978e-02],\n",
       "       [4.53073084e-02],\n",
       "       [4.73653227e-02],\n",
       "       [7.10716248e-01],\n",
       "       [9.51880097e-01],\n",
       "       [2.21475381e-02],\n",
       "       [9.94426608e-01],\n",
       "       [9.86320913e-01],\n",
       "       [9.95081067e-01],\n",
       "       [6.12208188e-01],\n",
       "       [9.72416699e-01],\n",
       "       [9.87968802e-01],\n",
       "       [1.92889899e-01],\n",
       "       [5.37981801e-02],\n",
       "       [1.31544825e-02],\n",
       "       [9.32456315e-01],\n",
       "       [8.43614787e-02],\n",
       "       [4.93390858e-02],\n",
       "       [1.05748221e-01],\n",
       "       [2.97298804e-02],\n",
       "       [6.84154686e-04],\n",
       "       [9.58230317e-01],\n",
       "       [8.81497979e-01],\n",
       "       [9.66133416e-01],\n",
       "       [6.64801300e-02],\n",
       "       [1.51667260e-02],\n",
       "       [1.25232741e-01],\n",
       "       [2.84149079e-03],\n",
       "       [9.52417433e-01],\n",
       "       [1.21909357e-03],\n",
       "       [9.94415402e-01],\n",
       "       [9.90931273e-01],\n",
       "       [9.71796453e-01],\n",
       "       [9.94017839e-01],\n",
       "       [1.41193327e-02],\n",
       "       [1.24625880e-02],\n",
       "       [9.78941202e-01],\n",
       "       [9.92452443e-01],\n",
       "       [3.06917340e-01],\n",
       "       [9.52597320e-01],\n",
       "       [9.90530193e-01],\n",
       "       [5.21332882e-02],\n",
       "       [1.84363738e-01],\n",
       "       [8.97523880e-01],\n",
       "       [1.03437178e-01],\n",
       "       [1.12302816e-02],\n",
       "       [2.01450735e-02],\n",
       "       [8.98335099e-01],\n",
       "       [4.34300676e-03],\n",
       "       [8.16061676e-01],\n",
       "       [1.44003391e-01],\n",
       "       [9.94304240e-01],\n",
       "       [9.93913472e-01],\n",
       "       [4.13661525e-02],\n",
       "       [5.37553765e-02],\n",
       "       [5.24181783e-01],\n",
       "       [8.01844709e-03],\n",
       "       [9.95175362e-01],\n",
       "       [3.01320269e-03],\n",
       "       [9.79963839e-01],\n",
       "       [9.46113348e-01],\n",
       "       [8.18678271e-03],\n",
       "       [5.01979589e-02],\n",
       "       [5.49769029e-02],\n",
       "       [9.81030464e-01],\n",
       "       [2.66075577e-03],\n",
       "       [1.13881510e-02],\n",
       "       [1.33937690e-02],\n",
       "       [6.71751425e-02],\n",
       "       [9.81509447e-01],\n",
       "       [6.71508834e-02],\n",
       "       [9.88701582e-01],\n",
       "       [9.81059372e-01],\n",
       "       [1.59987569e-01],\n",
       "       [9.80523050e-01],\n",
       "       [9.38029766e-01],\n",
       "       [6.92457914e-01],\n",
       "       [4.25554991e-01],\n",
       "       [9.50406075e-01],\n",
       "       [9.44596250e-03],\n",
       "       [9.87740338e-01],\n",
       "       [9.73422885e-01],\n",
       "       [9.35290575e-01],\n",
       "       [9.93860841e-01],\n",
       "       [5.08599775e-03],\n",
       "       [4.14000871e-03],\n",
       "       [3.95702105e-03],\n",
       "       [8.98005426e-01],\n",
       "       [9.91428912e-01],\n",
       "       [1.16983615e-02],\n",
       "       [2.58692987e-02],\n",
       "       [8.99939299e-01],\n",
       "       [9.90628541e-01],\n",
       "       [9.47283447e-01],\n",
       "       [1.29450401e-02],\n",
       "       [9.92671371e-01],\n",
       "       [5.52304946e-02],\n",
       "       [9.66417253e-01],\n",
       "       [9.78074193e-01],\n",
       "       [1.17055051e-01],\n",
       "       [8.61926377e-02],\n",
       "       [9.87545192e-01],\n",
       "       [2.74945726e-03],\n",
       "       [7.96386898e-02],\n",
       "       [1.77399796e-02],\n",
       "       [5.42206526e-01],\n",
       "       [5.48607446e-02],\n",
       "       [8.23984325e-01],\n",
       "       [6.54485542e-03],\n",
       "       [1.77756865e-02],\n",
       "       [6.10983670e-01],\n",
       "       [9.74987149e-01],\n",
       "       [9.88490045e-01],\n",
       "       [6.32627681e-02],\n",
       "       [1.22431859e-01],\n",
       "       [3.76849234e-01],\n",
       "       [1.46976456e-01],\n",
       "       [4.81732078e-02],\n",
       "       [2.56719887e-02],\n",
       "       [7.47755170e-02],\n",
       "       [9.10503387e-01],\n",
       "       [4.50837575e-02],\n",
       "       [8.94841850e-01],\n",
       "       [9.62831736e-01],\n",
       "       [9.72346365e-01],\n",
       "       [9.88112748e-01],\n",
       "       [9.92181063e-01],\n",
       "       [8.88523005e-04],\n",
       "       [1.50679844e-02],\n",
       "       [7.66712660e-03],\n",
       "       [7.92201702e-03],\n",
       "       [9.85952973e-01],\n",
       "       [1.00330515e-02],\n",
       "       [3.43621932e-02],\n",
       "       [9.01195109e-01],\n",
       "       [3.05168834e-02],\n",
       "       [4.82597500e-02],\n",
       "       [9.88467395e-01],\n",
       "       [9.68889892e-01],\n",
       "       [1.01555176e-02],\n",
       "       [8.57435688e-02],\n",
       "       [9.61437106e-01],\n",
       "       [9.69583452e-01],\n",
       "       [1.35435194e-01],\n",
       "       [4.86354306e-02],\n",
       "       [9.87005830e-01],\n",
       "       [3.43505316e-03],\n",
       "       [9.65864122e-01],\n",
       "       [9.73518670e-01],\n",
       "       [7.44556725e-01],\n",
       "       [9.86671507e-01],\n",
       "       [9.59273756e-01],\n",
       "       [4.18299437e-02],\n",
       "       [2.11621951e-02],\n",
       "       [4.05018032e-02],\n",
       "       [2.53262976e-03],\n",
       "       [5.52719176e-01],\n",
       "       [8.33404183e-01],\n",
       "       [1.10300798e-02],\n",
       "       [9.89057720e-01],\n",
       "       [9.87041473e-01],\n",
       "       [9.79838490e-01],\n",
       "       [9.28458944e-02],\n",
       "       [9.79789853e-01],\n",
       "       [4.17186692e-03],\n",
       "       [9.51325476e-01],\n",
       "       [9.19303119e-01],\n",
       "       [1.20305762e-01],\n",
       "       [9.81030464e-01],\n",
       "       [2.17979066e-02],\n",
       "       [1.02712587e-02],\n",
       "       [1.83893386e-02],\n",
       "       [6.20917566e-02],\n",
       "       [3.76047790e-02],\n",
       "       [2.68695712e-01],\n",
       "       [9.86275077e-01],\n",
       "       [6.12458408e-01],\n",
       "       [2.06900854e-03],\n",
       "       [1.76203866e-02],\n",
       "       [4.15695831e-03],\n",
       "       [6.60671368e-02],\n",
       "       [2.63511296e-03],\n",
       "       [2.24756878e-02],\n",
       "       [3.28380913e-02],\n",
       "       [9.91344690e-01],\n",
       "       [9.93790209e-01],\n",
       "       [8.10510576e-01],\n",
       "       [3.82801145e-03],\n",
       "       [6.72510639e-02],\n",
       "       [7.54429474e-02],\n",
       "       [6.74169045e-03],\n",
       "       [9.37768072e-02],\n",
       "       [8.92517447e-01],\n",
       "       [3.52401771e-02],\n",
       "       [9.65279639e-01],\n",
       "       [3.67315769e-01],\n",
       "       [9.43711996e-01],\n",
       "       [9.35793996e-01],\n",
       "       [8.55556905e-01],\n",
       "       [9.78600085e-01],\n",
       "       [1.71427592e-03],\n",
       "       [2.88110469e-02],\n",
       "       [8.95654976e-01],\n",
       "       [9.81301725e-01],\n",
       "       [1.85517594e-02],\n",
       "       [9.84382570e-01],\n",
       "       [9.98050094e-01],\n",
       "       [9.19864655e-01],\n",
       "       [9.69426095e-01],\n",
       "       [3.01202219e-02],\n",
       "       [9.78556693e-01],\n",
       "       [9.37207401e-01],\n",
       "       [9.34163630e-01],\n",
       "       [1.04347765e-01],\n",
       "       [2.88015723e-01],\n",
       "       [9.92202878e-01],\n",
       "       [9.92979228e-01],\n",
       "       [5.97658455e-02],\n",
       "       [9.96913314e-01]], dtype=float32)"
      ]
     },
     "execution_count": 83,
     "metadata": {},
     "output_type": "execute_result"
    }
   ],
   "source": [
    "z=model.predict(X_test)\n",
    "z"
   ]
  },
  {
   "cell_type": "code",
   "execution_count": 124,
   "id": "8bea0c59-64dd-457b-8d4d-d7b41efb730e",
   "metadata": {},
   "outputs": [
    {
     "name": "stdin",
     "output_type": "stream",
     "text": [
      "Enter a text Winner!! You have wone Iphone 13 pr max 5g\n"
     ]
    },
    {
     "name": "stdout",
     "output_type": "stream",
     "text": [
      "1/1 [==============================] - 0s 32ms/step\n"
     ]
    },
    {
     "data": {
      "text/plain": [
       "'Spam'"
      ]
     },
     "execution_count": 124,
     "metadata": {},
     "output_type": "execute_result"
    }
   ],
   "source": [
    "#Testing\n",
    "\n",
    "text=input('Enter a text')\n",
    "a=model.predict(pd.Series(text)).flatten()\n",
    "a=np.where(a>0.5,'Spam','Ham')\n",
    "\n",
    "a[0]"
   ]
  }
 ],
 "metadata": {
  "kernelspec": {
   "display_name": "Python 3 (ipykernel)",
   "language": "python",
   "name": "python3"
  },
  "language_info": {
   "codemirror_mode": {
    "name": "ipython",
    "version": 3
   },
   "file_extension": ".py",
   "mimetype": "text/x-python",
   "name": "python",
   "nbconvert_exporter": "python",
   "pygments_lexer": "ipython3",
   "version": "3.9.0"
  }
 },
 "nbformat": 4,
 "nbformat_minor": 5
}
